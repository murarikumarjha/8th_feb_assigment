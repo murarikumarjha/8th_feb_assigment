{
 "cells": [
  {
   "cell_type": "markdown",
   "id": "d38850d4-1376-45c8-80c3-0e458f143790",
   "metadata": {},
   "source": [
    "Q1. What is Abstraction in OOps? Explain with an example."
   ]
  },
  {
   "cell_type": "code",
   "execution_count": 1,
   "id": "7f3473de-a525-4bae-a8bf-584dccd90bf3",
   "metadata": {},
   "outputs": [
    {
     "data": {
      "text/plain": [
       "'this will return s students details for data science masters '"
      ]
     },
     "execution_count": 1,
     "metadata": {},
     "output_type": "execute_result"
    }
   ],
   "source": [
    "import abc\n",
    "class pwskills:\n",
    "    @abc.abstractmethod\n",
    "    def student_details(self):\n",
    "        pass\n",
    "    @abc.abstractmethod\n",
    "    def student_assigment(self):\n",
    "        pass\n",
    "    @abc.abstractmethod\n",
    "    def student_marks(self):\n",
    "        pass\n",
    "    \n",
    "class student_details(pwskills):\n",
    "     \n",
    "    def student_details(self):\n",
    "        return 'this is meth for taking student details'\n",
    "    def student_assigment(self):\n",
    "        return \"this is a meth for assign details for a perticualt student\"\n",
    "    \n",
    "class data_science_masters(pwskills):\n",
    "    def student_details(self):\n",
    "        return \"this will return s students details for data science masters \"\n",
    "    def student_assigment(self):\n",
    "        return \"this will give you a student assigment for data science masters \"\n",
    "dsm = data_science_masters()\n",
    "dsm.student_details()\n"
   ]
  },
  {
   "cell_type": "markdown",
   "id": "d57506da-4809-4e87-b081-b7b2b3aa60da",
   "metadata": {},
   "source": [
    "Q2. Differentiate between Abstraction and Encapsulation. Explain with an example."
   ]
  },
  {
   "cell_type": "markdown",
   "id": "32e8568a-d120-4194-9157-306266620723",
   "metadata": {},
   "source": [
    "#Definition\n",
    "Abstraction is hiding the details and implementation of the code.\n",
    "Encapsulation is hiding the data and controlling the visibility of the code.\n",
    "#Phase\n",
    "Abstraction is a design level process.\n",
    "Encapsulation is an implementation level process.\n",
    "Pivotal Ability\n",
    "Abstraction is concerned about what a class instance can do, instead of the implementation of the class.\n",
    "Encapsulation helps in data binding and control over maintaining the transparency of the data.\n",
    "#Use Case\n",
    "Abstraction is a design level process and it is used to reduce the complexity at the designing stage of a project.\n",
    "Encapsulation is an implementation level process, and it is used to provide privacy and maintain control over thetransparency of data at the implementation stage of a project."
   ]
  },
  {
   "cell_type": "code",
   "execution_count": 7,
   "id": "9e6c36f8-742b-4a1a-af1f-44627407b106",
   "metadata": {},
   "outputs": [
    {
     "data": {
      "text/plain": [
       "300"
      ]
     },
     "execution_count": 7,
     "metadata": {},
     "output_type": "execute_result"
    }
   ],
   "source": [
    " class car:\n",
    "        def __init__(self,year,make,model,speed):\n",
    "            self.__year = year\n",
    "            self.__model = model\n",
    "            self.__make = make\n",
    "            self.__speed = 0\n",
    "            \n",
    "            \n",
    "        def set_speed(self,speed):\n",
    "            self._speed = 0 if speed < 0 else speed\n",
    "            \n",
    "        def get_speed(self):\n",
    "            return self._speed\n",
    "gadi = car(\"Tata\",2001,\"Sfari\",12)\n",
    "gadi.set_speed(300)\n",
    "gadi.get_speed()"
   ]
  },
  {
   "cell_type": "markdown",
   "id": "a375f582-4aa7-4cab-9d3e-1d2a40dfd172",
   "metadata": {},
   "source": [
    "Q3. What is abc module in python? Why is it used?"
   ]
  },
  {
   "cell_type": "markdown",
   "id": "58252d80-7370-40d3-ad1f-b3f25298885a",
   "metadata": {},
   "source": [
    "The 'abc' module in Python library provides the infrastructure for defining custom abstract base classes.\n",
    "'abc' works by marking methods of the base class as abstract. This is done by @absttractmethod decorator.\n",
    "The 'abc' module in the Python library provides the infrastructure for defining custom abstract base\n",
    "classes. Abstract class cannot be instantiated in python. An Abstract method can be call by its subclasses"
   ]
  },
  {
   "cell_type": "markdown",
   "id": "8ade223c-cd0c-4578-9674-137dd8b8e260",
   "metadata": {},
   "source": [
    "How can we achieve data abstraction?"
   ]
  },
  {
   "cell_type": "markdown",
   "id": "c8b7feb8-3b3b-48ae-ac82-72df6750485e",
   "metadata": {},
   "source": [
    "Data abstraction in Python can be achieved through creating abstract classes and inheriting them later. \n",
    "Inheritance in OOP is a way through which one class inherits the attributes and methods of another class.\n",
    "The class whose properties and methods are inherited is known as the Parent class. And the class that inherits\n",
    "the properties from the parent class is the Child class/subclass1.\n",
    "\n"
   ]
  },
  {
   "cell_type": "code",
   "execution_count": null,
   "id": "b93c123f-9314-4911-b45c-df23f3d08533",
   "metadata": {},
   "outputs": [],
   "source": [
    "Can we create an instance of an abstract class? Explain your answer."
   ]
  },
  {
   "cell_type": "code",
   "execution_count": null,
   "id": "73d3da8a-1b74-48f0-a67b-86078cb19f75",
   "metadata": {},
   "outputs": [],
   "source": [
    "No, we cannot create an instance of an abstract class. An abstract class is a class that cannot be instantiated. It can only be used as a base class for other classes that inherit its properties and methods."
   ]
  }
 ],
 "metadata": {
  "kernelspec": {
   "display_name": "Python 3 (ipykernel)",
   "language": "python",
   "name": "python3"
  },
  "language_info": {
   "codemirror_mode": {
    "name": "ipython",
    "version": 3
   },
   "file_extension": ".py",
   "mimetype": "text/x-python",
   "name": "python",
   "nbconvert_exporter": "python",
   "pygments_lexer": "ipython3",
   "version": "3.10.8"
  }
 },
 "nbformat": 4,
 "nbformat_minor": 5
}
